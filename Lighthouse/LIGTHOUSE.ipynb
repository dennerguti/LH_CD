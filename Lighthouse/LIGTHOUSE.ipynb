{
  "nbformat": 4,
  "nbformat_minor": 0,
  "metadata": {
    "colab": {
      "provenance": []
    },
    "kernelspec": {
      "name": "python3",
      "display_name": "Python 3"
    },
    "language_info": {
      "name": "python"
    }
  },
  "cells": [
    {
      "cell_type": "code",
      "source": [
        "!pip install scikit-fuzzy"
      ],
      "metadata": {
        "colab": {
          "base_uri": "https://localhost:8080/"
        },
        "id": "jjUmU4mcuew0",
        "outputId": "b31a133f-9e27-4745-e399-5b8889d4718e"
      },
      "execution_count": 2,
      "outputs": [
        {
          "output_type": "stream",
          "name": "stdout",
          "text": [
            "Collecting scikit-fuzzy\n",
            "  Downloading scikit_fuzzy-0.5.0-py2.py3-none-any.whl.metadata (2.6 kB)\n",
            "Downloading scikit_fuzzy-0.5.0-py2.py3-none-any.whl (920 kB)\n",
            "\u001b[2K   \u001b[90m━━━━━━━━━━━━━━━━━━━━━━━━━━━━━━━━━━━━━━━━\u001b[0m \u001b[32m920.8/920.8 kB\u001b[0m \u001b[31m5.8 MB/s\u001b[0m eta \u001b[36m0:00:00\u001b[0m\n",
            "\u001b[?25hInstalling collected packages: scikit-fuzzy\n",
            "Successfully installed scikit-fuzzy-0.5.0\n"
          ]
        }
      ]
    },
    {
      "cell_type": "code",
      "source": [
        "import pandas as pd\n",
        "import numpy as np\n",
        "import skfuzzy as fuzz\n",
        "import skfuzzy.control as ctrl\n",
        "# Carregar o arquivo CSV\n",
        "df = pd.read_csv('teste_indicium_precificacao.csv')\n",
        "\n",
        "filtered_data = df[(df['bairro_group'] == 'Manhattan') &\n",
        "                   (df['bairro'] == 'Midtown') &\n",
        "                   (df['room_type'] == 'Entire home/apt')]\n",
        "\n",
        "# Calculando a média da coluna 'price'\n",
        "average_price = filtered_data['price'].mean()\n",
        "\n",
        "# Exibindo o resultado\n",
        "print(f'O valor médio é: {average_price:.2f}')\n"
      ],
      "metadata": {
        "colab": {
          "base_uri": "https://localhost:8080/"
        },
        "id": "JBn3bxE3SKrq",
        "outputId": "69e5fef5-7c8a-4e9b-8f3b-92c6299abcf3"
      },
      "execution_count": 4,
      "outputs": [
        {
          "output_type": "stream",
          "name": "stdout",
          "text": [
            "O valor médio é: 301.27\n"
          ]
        }
      ]
    },
    {
      "cell_type": "code",
      "execution_count": 6,
      "metadata": {
        "colab": {
          "base_uri": "https://localhost:8080/"
        },
        "id": "A_6iNSHPuU45",
        "outputId": "00449333-17f1-4208-e85a-2bf24bea89b4"
      },
      "outputs": [
        {
          "output_type": "stream",
          "name": "stdout",
          "text": [
            "Preço estimado: $322.82\n"
          ]
        }
      ],
      "source": [
        "import numpy as np\n",
        "import skfuzzy as fuzz\n",
        "import skfuzzy.control as ctrl\n",
        "\n",
        "# Definição das variáveis de entrada e saída\n",
        "reviews = ctrl.Antecedent(np.arange(0, 501, 1), 'reviews')\n",
        "disponibilidade = ctrl.Antecedent(np.arange(0, 366, 1), 'disponibilidade')\n",
        "minimo_noites = ctrl.Antecedent(np.arange(1, 91, 1), 'minimo_noites')\n",
        "preco = ctrl.Consequent(np.arange(10, 1001, 1), 'preco')\n",
        "\n",
        "# Funções de pertinência\n",
        "reviews.automf(3, names=['baixo', 'medio', 'alto'])\n",
        "disponibilidade.automf(3, names=['baixa', 'media', 'alta'])\n",
        "minimo_noites.automf(3, names=['curto', 'medio', 'longo'])\n",
        "preco.automf(3, names=['baixo', 'medio', 'alto'])\n",
        "\n",
        "# Regras fuzzy\n",
        "rule1 = ctrl.Rule(reviews['baixo'] & disponibilidade['baixa'] & minimo_noites['curto'], preco['baixo'])\n",
        "rule2 = ctrl.Rule(reviews['medio'] & disponibilidade['media'] & minimo_noites['medio'], preco['medio'])\n",
        "rule3 = ctrl.Rule(reviews['alto'] & disponibilidade['alta'] & minimo_noites['longo'], preco['alto'])\n",
        "rule4 = ctrl.Rule(reviews['medio'] & disponibilidade['alta'] & minimo_noites['curto'], preco['medio'])\n",
        "rule5 = ctrl.Rule(reviews['alto'] & disponibilidade['media'] & minimo_noites['medio'], preco['alto'])\n",
        "rule6 = ctrl.Rule(reviews['baixo'] & disponibilidade['alta'] & minimo_noites['curto'], preco['baixo'])\n",
        "rule7 = ctrl.Rule(reviews['baixo'] & disponibilidade['media'] & minimo_noites['medio'], preco['baixo'])\n",
        "rule8 = ctrl.Rule(reviews['medio'] & disponibilidade['baixa'] & minimo_noites['curto'], preco['medio'])\n",
        "rule9 = ctrl.Rule(reviews['alto'] & disponibilidade['baixa'] & minimo_noites['longo'], preco['medio'])\n",
        "rule10 = ctrl.Rule(reviews['alto'] & disponibilidade['alta'] & minimo_noites['curto'], preco['alto'])\n",
        "\n",
        "# Sistema de controle\n",
        "preco_ctrl = ctrl.ControlSystem([rule1, rule2, rule3, rule4, rule5, rule6, rule7, rule8, rule9, rule10])\n",
        "preco_sim = ctrl.ControlSystemSimulation(preco_ctrl)\n",
        "\n",
        "# Input\n",
        "preco_sim.input['reviews'] = 45\n",
        "preco_sim.input['disponibilidade'] = 355\n",
        "preco_sim.input['minimo_noites'] = 1\n",
        "\n",
        "preco_sim.compute()\n",
        "print(f\"Preço estimado: ${preco_sim.output['preco']:.2f}\")"
      ]
    }
  ]
}